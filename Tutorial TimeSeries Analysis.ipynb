{
 "cells": [
  {
   "cell_type": "code",
   "execution_count": 1,
   "metadata": {},
   "outputs": [],
   "source": [
    "import pandas as pd\n"
   ]
  },
  {
   "cell_type": "code",
   "execution_count": 20,
   "metadata": {},
   "outputs": [
    {
     "data": {
      "text/html": [
       "<div>\n",
       "<style scoped>\n",
       "    .dataframe tbody tr th:only-of-type {\n",
       "        vertical-align: middle;\n",
       "    }\n",
       "\n",
       "    .dataframe tbody tr th {\n",
       "        vertical-align: top;\n",
       "    }\n",
       "\n",
       "    .dataframe thead th {\n",
       "        text-align: right;\n",
       "    }\n",
       "</style>\n",
       "<table border=\"1\" class=\"dataframe\">\n",
       "  <thead>\n",
       "    <tr style=\"text-align: right;\">\n",
       "      <th></th>\n",
       "      <th>Open</th>\n",
       "      <th>High</th>\n",
       "      <th>Low</th>\n",
       "      <th>Close</th>\n",
       "      <th>Adj Close</th>\n",
       "      <th>Volume</th>\n",
       "    </tr>\n",
       "    <tr>\n",
       "      <th>Date</th>\n",
       "      <th></th>\n",
       "      <th></th>\n",
       "      <th></th>\n",
       "      <th></th>\n",
       "      <th></th>\n",
       "      <th></th>\n",
       "    </tr>\n",
       "  </thead>\n",
       "  <tbody>\n",
       "    <tr>\n",
       "      <th>2017-02-09</th>\n",
       "      <td>131.649994</td>\n",
       "      <td>132.449997</td>\n",
       "      <td>131.119995</td>\n",
       "      <td>132.419998</td>\n",
       "      <td>128.402603</td>\n",
       "      <td>28349900</td>\n",
       "    </tr>\n",
       "    <tr>\n",
       "      <th>2017-02-10</th>\n",
       "      <td>132.460007</td>\n",
       "      <td>132.940002</td>\n",
       "      <td>132.050003</td>\n",
       "      <td>132.119995</td>\n",
       "      <td>128.111710</td>\n",
       "      <td>20065500</td>\n",
       "    </tr>\n",
       "    <tr>\n",
       "      <th>2017-02-13</th>\n",
       "      <td>133.080002</td>\n",
       "      <td>133.820007</td>\n",
       "      <td>132.750000</td>\n",
       "      <td>133.289993</td>\n",
       "      <td>129.246201</td>\n",
       "      <td>23035400</td>\n",
       "    </tr>\n",
       "    <tr>\n",
       "      <th>2017-02-14</th>\n",
       "      <td>133.470001</td>\n",
       "      <td>135.089996</td>\n",
       "      <td>133.250000</td>\n",
       "      <td>135.020004</td>\n",
       "      <td>130.923721</td>\n",
       "      <td>33226200</td>\n",
       "    </tr>\n",
       "    <tr>\n",
       "      <th>2017-02-15</th>\n",
       "      <td>135.520004</td>\n",
       "      <td>136.270004</td>\n",
       "      <td>134.619995</td>\n",
       "      <td>135.509995</td>\n",
       "      <td>131.398834</td>\n",
       "      <td>35623100</td>\n",
       "    </tr>\n",
       "  </tbody>\n",
       "</table>\n",
       "</div>"
      ],
      "text/plain": [
       "                  Open        High         Low       Close   Adj Close  \\\n",
       "Date                                                                     \n",
       "2017-02-09  131.649994  132.449997  131.119995  132.419998  128.402603   \n",
       "2017-02-10  132.460007  132.940002  132.050003  132.119995  128.111710   \n",
       "2017-02-13  133.080002  133.820007  132.750000  133.289993  129.246201   \n",
       "2017-02-14  133.470001  135.089996  133.250000  135.020004  130.923721   \n",
       "2017-02-15  135.520004  136.270004  134.619995  135.509995  131.398834   \n",
       "\n",
       "              Volume  \n",
       "Date                  \n",
       "2017-02-09  28349900  \n",
       "2017-02-10  20065500  \n",
       "2017-02-13  23035400  \n",
       "2017-02-14  33226200  \n",
       "2017-02-15  35623100  "
      ]
     },
     "execution_count": 20,
     "metadata": {},
     "output_type": "execute_result"
    }
   ],
   "source": [
    "PFAD = 'C:/Users/barth/Data/Data Bases/'\n",
    "FILE1 = 'aapl.csv'; LADEPFAD1 = PFAD+FILE1\n",
    "df = pd.read_csv(LADEPFAD1, decimal=',', parse_dates=['Date'], index_col='Date')\n",
    "df.head()"
   ]
  },
  {
   "cell_type": "code",
   "execution_count": 52,
   "metadata": {
    "collapsed": true
   },
   "outputs": [
    {
     "data": {
      "text/plain": [
       "Date\n",
       "2017-02-09    131.649994\n",
       "2017-02-10    132.460007\n",
       "2017-02-13    133.080002\n",
       "2017-02-14    133.470001\n",
       "2017-02-15    135.520004\n",
       "2017-02-16    135.669998\n",
       "2017-02-17    135.100006\n",
       "2017-02-21    136.229996\n",
       "2017-02-22    136.429993\n",
       "2017-02-23    137.380005\n",
       "2017-02-24    135.910004\n",
       "2017-02-27    137.139999\n",
       "2017-02-28    137.080002\n",
       "2017-03-01    137.889999\n",
       "2017-03-02    140.000000\n",
       "2017-03-03    138.779999\n",
       "2017-03-06    139.369995\n",
       "2017-03-07    139.059998\n",
       "2017-03-08    138.949997\n",
       "2017-03-09    138.740005\n",
       "2017-03-10    139.250000\n",
       "2017-03-13    138.850006\n",
       "2017-03-14    139.300003\n",
       "2017-03-15    139.410004\n",
       "2017-03-16    140.720001\n",
       "2017-03-17    141.000000\n",
       "2017-03-20    140.399994\n",
       "2017-03-21    142.110001\n",
       "2017-03-22    139.850006\n",
       "2017-03-23    141.259995\n",
       "                 ...    \n",
       "2018-12-27    155.839996\n",
       "2018-12-28    157.500000\n",
       "2018-12-31    158.529999\n",
       "2019-01-02    154.889999\n",
       "2019-01-03    143.979996\n",
       "2019-01-04    144.529999\n",
       "2019-01-07    148.699997\n",
       "2019-01-08    149.559998\n",
       "2019-01-09    151.289993\n",
       "2019-01-10    152.500000\n",
       "2019-01-11    152.880005\n",
       "2019-01-14    150.850006\n",
       "2019-01-15    150.270004\n",
       "2019-01-16    153.080002\n",
       "2019-01-17    154.199997\n",
       "2019-01-18    157.500000\n",
       "2019-01-22    156.410004\n",
       "2019-01-23    154.149994\n",
       "2019-01-24    154.110001\n",
       "2019-01-25    155.479996\n",
       "2019-01-28    155.789993\n",
       "2019-01-29    156.250000\n",
       "2019-01-30    163.250000\n",
       "2019-01-31    166.110001\n",
       "2019-02-01    166.960007\n",
       "2019-02-04    167.410004\n",
       "2019-02-05    172.860001\n",
       "2019-02-06    174.649994\n",
       "2019-02-07    172.399994\n",
       "2019-02-08    168.990005\n",
       "Name: Open, Length: 503, dtype: float64"
      ]
     },
     "execution_count": 52,
     "metadata": {},
     "output_type": "execute_result"
    }
   ],
   "source": [
    "df.Open.astype(float, inplace=True)"
   ]
  },
  {
   "cell_type": "code",
   "execution_count": 53,
   "metadata": {
    "collapsed": true
   },
   "outputs": [
    {
     "data": {
      "text/plain": [
       "Open         object\n",
       "High         object\n",
       "Low          object\n",
       "Close        object\n",
       "Adj Close    object\n",
       "Volume        int64\n",
       "dtype: object"
      ]
     },
     "execution_count": 53,
     "metadata": {},
     "output_type": "execute_result"
    }
   ],
   "source": [
    "df.dtypes"
   ]
  },
  {
   "cell_type": "code",
   "execution_count": 23,
   "metadata": {
    "scrolled": true
   },
   "outputs": [
    {
     "data": {
      "text/plain": [
       "DatetimeIndex(['2017-02-09', '2017-02-10', '2017-02-13', '2017-02-14',\n",
       "               '2017-02-15', '2017-02-16', '2017-02-17', '2017-02-21',\n",
       "               '2017-02-22', '2017-02-23',\n",
       "               ...\n",
       "               '2019-01-28', '2019-01-29', '2019-01-30', '2019-01-31',\n",
       "               '2019-02-01', '2019-02-04', '2019-02-05', '2019-02-06',\n",
       "               '2019-02-07', '2019-02-08'],\n",
       "              dtype='datetime64[ns]', name='Date', length=503, freq=None)"
      ]
     },
     "execution_count": 23,
     "metadata": {},
     "output_type": "execute_result"
    }
   ],
   "source": [
    "df.index"
   ]
  },
  {
   "cell_type": "code",
   "execution_count": 56,
   "metadata": {},
   "outputs": [
    {
     "data": {
      "text/plain": [
       "176.6574975"
      ]
     },
     "execution_count": 56,
     "metadata": {},
     "output_type": "execute_result"
    }
   ],
   "source": [
    "df['2018-01-10':'2018-01-22'].Open.astype(float).mean()"
   ]
  },
  {
   "cell_type": "code",
   "execution_count": 74,
   "metadata": {},
   "outputs": [
    {
     "data": {
      "text/plain": [
       "<matplotlib.axes._subplots.AxesSubplot at 0x1b01ca38668>"
      ]
     },
     "execution_count": 74,
     "metadata": {},
     "output_type": "execute_result"
    },
    {
     "data": {
      "image/png": "[encoded data removed]",
      "text/plain": [
       "<Figure size 432x288 with 1 Axes>"
      ]
     },
     "metadata": {},
     "output_type": "display_data"
    }
   ],
   "source": [
    "%matplotlib inline\n",
    "df['2018':'2019'].Volume.resample('M').mean().plot(kind='bar', color='darkblue')"
   ]
  },
  {
   "cell_type": "code",
   "execution_count": 77,
   "metadata": {},
   "outputs": [
    {
     "data": {
      "text/plain": [
       "<matplotlib.axes._subplots.AxesSubplot at 0x1b01caa3208>"
      ]
     },
     "execution_count": 77,
     "metadata": {},
     "output_type": "execute_result"
    },
    {
     "data": {
      "image/png": "[encoded data removed]",
      "text/plain": [
       "<Figure size 432x288 with 1 Axes>"
      ]
     },
     "metadata": {},
     "output_type": "display_data"
    }
   ],
   "source": [
    "%matplotlib inline\n",
    "df.Volume.plot()"
   ]
  },
  {
   "cell_type": "code",
   "execution_count": null,
   "metadata": {},
   "outputs": [],
   "source": []
  }
 ],
 "metadata": {
  "kernelspec": {
   "display_name": "Python 3",
   "language": "python",
   "name": "python3"
  },
  "language_info": {
   "codemirror_mode": {
    "name": "ipython",
    "version": 3
   },
   "file_extension": ".py",
   "mimetype": "text/x-python",
   "name": "python",
   "nbconvert_exporter": "python",
   "pygments_lexer": "ipython3",
   "version": "3.6.5"
  }
 },
 "nbformat": 4,
 "nbformat_minor": 2
}
